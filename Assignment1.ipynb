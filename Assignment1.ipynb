{
 "cells": [
  {
   "cell_type": "markdown",
   "id": "beda44e9",
   "metadata": {},
   "source": [
    "Q-1. Write an SQL query to fetch “FIRST_NAME” from Worker table using the alias\n",
    "name as &lt;WORKER_NAME&gt;.\n"
   ]
  },
  {
   "cell_type": "code",
   "execution_count": null,
   "id": "1f8659fd",
   "metadata": {},
   "outputs": [],
   "source": [
    "select FIRST_NAME WORKER_NAME from Worker"
   ]
  },
  {
   "cell_type": "code",
   "execution_count": null,
   "id": "a4b335e7",
   "metadata": {},
   "outputs": [],
   "source": [
    "Q-2. Write an SQL query to fetch unique values of DEPARTMENT from Worker table.\n"
   ]
  },
  {
   "cell_type": "code",
   "execution_count": null,
   "id": "306a4dbd",
   "metadata": {},
   "outputs": [],
   "source": [
    "select distinct department from Worker"
   ]
  },
  {
   "cell_type": "code",
   "execution_count": null,
   "id": "ce6015e7",
   "metadata": {},
   "outputs": [],
   "source": [
    "Q-3. Write an SQL query to show the last 5 record from a table."
   ]
  },
  {
   "cell_type": "code",
   "execution_count": null,
   "id": "0fbccf5e",
   "metadata": {},
   "outputs": [],
   "source": [
    "select *from worker order by id desc limit 5;"
   ]
  }
 ],
 "metadata": {
  "kernelspec": {
   "display_name": "Python 3 (ipykernel)",
   "language": "python",
   "name": "python3"
  },
  "language_info": {
   "codemirror_mode": {
    "name": "ipython",
    "version": 3
   },
   "file_extension": ".py",
   "mimetype": "text/x-python",
   "name": "python",
   "nbconvert_exporter": "python",
   "pygments_lexer": "ipython3",
   "version": "3.9.7"
  }
 },
 "nbformat": 4,
 "nbformat_minor": 5
}
