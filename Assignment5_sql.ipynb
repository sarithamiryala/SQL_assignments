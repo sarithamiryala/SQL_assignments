{
 "cells": [
  {
   "cell_type": "markdown",
   "id": "6424ebf2",
   "metadata": {},
   "source": [
    "Q-1. Write an SQL query to print details of workers excluding first names, “Vipul” and\n",
    "“Satish” from Worker table.\n"
   ]
  },
  {
   "cell_type": "code",
   "execution_count": null,
   "id": "7bf485f5",
   "metadata": {},
   "outputs": [],
   "source": [
    "select *from workers where FIRST_NAME not in ('Vipul','Satish')"
   ]
  },
  {
   "cell_type": "markdown",
   "id": "5fc7c82d",
   "metadata": {},
   "source": [
    "Q-2. Write an SQL query to print details of the Workers whose FIRST_NAME ends with\n",
    "‘h’ and contains six alphabets.\n"
   ]
  },
  {
   "cell_type": "code",
   "execution_count": null,
   "id": "4fb0c454",
   "metadata": {},
   "outputs": [],
   "source": [
    "select *from Wokers where FIRST_NAME like '_____h';"
   ]
  },
  {
   "cell_type": "code",
   "execution_count": null,
   "id": "5e4cbdf5",
   "metadata": {},
   "outputs": [],
   "source": [
    "Q-3. Write a query to validate Email of Employee."
   ]
  },
  {
   "cell_type": "code",
   "execution_count": null,
   "id": "ce04c0d6",
   "metadata": {},
   "outputs": [],
   "source": [
    "select *from Worker where Email_id is like %@.%.%"
   ]
  }
 ],
 "metadata": {
  "kernelspec": {
   "display_name": "Python 3 (ipykernel)",
   "language": "python",
   "name": "python3"
  },
  "language_info": {
   "codemirror_mode": {
    "name": "ipython",
    "version": 3
   },
   "file_extension": ".py",
   "mimetype": "text/x-python",
   "name": "python",
   "nbconvert_exporter": "python",
   "pygments_lexer": "ipython3",
   "version": "3.9.7"
  }
 },
 "nbformat": 4,
 "nbformat_minor": 5
}
